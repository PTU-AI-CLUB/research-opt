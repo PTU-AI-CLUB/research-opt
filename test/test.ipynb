{
 "cells": [
  {
   "cell_type": "code",
   "execution_count": 43,
   "metadata": {},
   "outputs": [],
   "source": [
    "import fitz\n",
    "from unidecode import unidecode\n",
    "import os\n",
    "import requests\n",
    "import PIL.Image\n",
    "import io\n",
    "from dotenv import load_dotenv, find_dotenv\n",
    "\n",
    "load_dotenv(find_dotenv())\n",
    "\n",
    "\n",
    "class DocumentSummarizer:\n",
    "\n",
    "    API_TOKEN = os.getenv(\"HUGGINGFACE_API_TOKEN\")\n",
    "\n",
    "    API_URL = \"https://api-inference.huggingface.co/models/facebook/bart-large-cnn\"\n",
    "    # API_URL = \"https://api-inference.huggingface.co/models/Falconsai/text_summarization\"\n",
    "    headers = {\"Authorization\": f\"Bearer {API_TOKEN}\"}\n",
    "\n",
    "    def __init__(self, path: str) -> None:\n",
    "        self.doc = fitz.open(path)\n",
    "        self.toc = self.doc.get_toc(simple=True)\n",
    "    \n",
    "    def _summarize(self, payload: str):\n",
    "        response = requests.post(self.API_URL, headers=self.headers, json=payload)\n",
    "        return response.json()[0][\"summary_text\"]\n",
    "\n",
    "    def _get_images(self) -> None:\n",
    "        counter = 0\n",
    "        if not os.path.exists(\"./images/\"):\n",
    "            os.mkdir(\"./images/\")\n",
    "        \n",
    "        for page in self.doc:\n",
    "            images = page.get_images()\n",
    "        \n",
    "            for image in images:\n",
    "                base_image = self.doc.extract_image(image[0])\n",
    "                image_data = base_image[\"image\"]\n",
    "                ext = base_image[\"ext\"]\n",
    "                image = PIL.Image.open(io.BytesIO(image_data))\n",
    "                image.save(open(f\"./images/{self.doc.name}_image_{counter}.{ext}\", \"wb\"))\n",
    "                counter += 1    \n",
    "\n",
    "    def _get_abstract(self):\n",
    "        page_1_text = unidecode(self.doc[0].get_text())\n",
    "        start_idx = page_1_text.lower().find(\"abstract\") + len(\"abstract\")\n",
    "        end_idx = page_1_text.lower().find(self.toc[0][1].lower())\n",
    "        return page_1_text[start_idx:end_idx].replace(\"\\n\", \" \")\n",
    "\n",
    "    def summarize(self) -> None:\n",
    "\n",
    "        summarized_doc = {}\n",
    "        summarized_doc[\"Abstract\"] = self._get_abstract()\n",
    "        for i, content in enumerate(self.toc):\n",
    "            title = content[1]\n",
    "            page_no = content[2]\n",
    "\n",
    "            if i+1==len(self.toc):\n",
    "                text = unidecode(self.doc[page_no-1].get_text())\n",
    "                start_idx = text.find(title)\n",
    "                content_text = text[len(title)+start_idx:]\n",
    "                \n",
    "            \n",
    "            else:\n",
    "                start_idx = unidecode(self.doc[page_no-1].get_text()).find(title)\n",
    "                end_idx = unidecode(self.doc[self.toc[i+1][2]-1].get_text()).find(self.toc[i+1][1])\n",
    "                if page_no == self.toc[i+1][2]:\n",
    "                    content_text = unidecode(self.doc[page_no-1].get_text())[len(title)+start_idx:end_idx]\n",
    "                else:\n",
    "                    content_text = unidecode(self.doc[page_no-1].get_text())[len(title)+start_idx:] + \\\n",
    "                                   unidecode(self.doc[self.toc[i+1][2]-1].get_text())[:end_idx]\n",
    "            \n",
    "            content_text = content_text.replace(\"\\n\", \" \")\n",
    "            summzarized_content_text = \"\"\n",
    "            while len(content_text)>512:\n",
    "                summzarized_content_text += self._summarize(content_text[:512])\n",
    "                content_text = content_text[512:]\n",
    "            summarized_doc[title] = summzarized_content_text\n",
    "        \n",
    "        self._get_images()\n",
    "        return summarized_doc"
   ]
  },
  {
   "cell_type": "code",
   "execution_count": 44,
   "metadata": {},
   "outputs": [],
   "source": [
    "ds = DocumentSummarizer(path=\"test1.pdf\")\n",
    "doc = ds.summarize()"
   ]
  },
  {
   "cell_type": "code",
   "execution_count": 45,
   "metadata": {},
   "outputs": [],
   "source": [
    "from fpdf import FPDF\n",
    "from typing import Dict\n",
    "import os\n",
    "from PIL import Image\n",
    "import shutil\n",
    "\n",
    "class PdfDoc(FPDF):\n",
    "\n",
    "    def footer(self):\n",
    "        self.set_y(-15)\n",
    "        self.set_font(\"helvetica\", \"I\", 10)\n",
    "        self.cell(0, 10, f\"Page {self.page_no()}\", align=\"C\")\n",
    "    \n",
    "    def write(self, doc: Dict[str, str]):\n",
    "        self._write_doc(doc)\n",
    "        self._write_images()\n",
    "    \n",
    "    def _write_doc(self, doc: Dict[str, str]):\n",
    "        for title in doc:\n",
    "            text = doc[title]\n",
    "            self.set_font(\"times\", \"B\", size=16)\n",
    "            self.cell(0, 15, text=title)\n",
    "            self.ln()\n",
    "            if len(text)>0:\n",
    "                self.set_font(\"times\", \"\", 12)\n",
    "                self.multi_cell(0, 5, text=text)\n",
    "                self.ln()\n",
    "    \n",
    "    def _write_images(self):\n",
    "        self.add_page()\n",
    "        self.set_font(family=\"helvetica\", style=\"B\", size=16)\n",
    "        self.cell(0, 10, text=\"Figures\", align=\"C\")\n",
    "        self.ln()\n",
    "        counter = 1\n",
    "        for _, _, files in os.walk(\"./images/\"):\n",
    "            for file in files:\n",
    "                self.image(name=Image.open(f\"./images/{file}\"),\n",
    "                        w=75,\n",
    "                        h=75,\n",
    "                        x=self.w/2 - 37.5)\n",
    "                self.ln()\n",
    "                self.set_font(family=\"times\", style=\"I\", size=10)\n",
    "                self.cell(0, 5, text=f\"Figure {counter}\", align=\"C\")\n",
    "                self.ln(20)\n",
    "                counter += 1\n",
    "            \n",
    "        shutil.rmtree(\"./images/\")\n",
    "        \n"
   ]
  },
  {
   "cell_type": "code",
   "execution_count": 46,
   "metadata": {},
   "outputs": [],
   "source": [
    "pdf = PdfDoc(orientation=\"P\", unit=\"mm\", format=\"letter\")\n",
    "pdf.set_auto_page_break(auto=True, margin=15)\n",
    "pdf.add_page()\n",
    "pdf.write(doc=doc)\n",
    "pdf.output(\"summarized_doc.pdf\")"
   ]
  },
  {
   "cell_type": "code",
   "execution_count": 49,
   "metadata": {},
   "outputs": [],
   "source": [
    "papers = client.search(\"A decomposable attention model\")"
   ]
  },
  {
   "cell_type": "code",
   "execution_count": 60,
   "metadata": {},
   "outputs": [
    {
     "data": {
      "text/plain": [
       "'http://arxiv.org/pdf/1606.01933v2.pdf'"
      ]
     },
     "execution_count": 60,
     "metadata": {},
     "output_type": "execute_result"
    }
   ],
   "source": [
    "papers.results[0].paper.url_pdf"
   ]
  },
  {
   "cell_type": "code",
   "execution_count": 61,
   "metadata": {},
   "outputs": [],
   "source": [
    "from paperswithcode import PapersWithCodeClient\n",
    "import requests\n",
    "def download_ref_papers(title: str):\n",
    "    client = PapersWithCodeClient()\n",
    "    papers = client.search(q=title)\n",
    "    pdf_url = papers.results[0].paper.url_pdf\n",
    "    response = requests.get(pdf_url)\n",
    "    with open(f\"{title}.pdf\", \"wb\") as f:\n",
    "        f.write(response.content)\n",
    "\n",
    "download_ref_papers(title=\"A decomposable attention model\")"
   ]
  },
  {
   "cell_type": "code",
   "execution_count": null,
   "metadata": {},
   "outputs": [],
   "source": []
  }
 ],
 "metadata": {
  "kernelspec": {
   "display_name": "venv",
   "language": "python",
   "name": "python3"
  },
  "language_info": {
   "codemirror_mode": {
    "name": "ipython",
    "version": 3
   },
   "file_extension": ".py",
   "mimetype": "text/x-python",
   "name": "python",
   "nbconvert_exporter": "python",
   "pygments_lexer": "ipython3",
   "version": "3.11.5"
  }
 },
 "nbformat": 4,
 "nbformat_minor": 2
}
